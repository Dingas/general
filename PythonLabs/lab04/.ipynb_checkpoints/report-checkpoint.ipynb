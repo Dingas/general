{
 "cells": [
  {
   "cell_type": "markdown",
   "metadata": {},
   "source": [
    "# CPS305 Fall 2019\n",
    "## Lab 04 Report\n",
    "## Derek Eliopoulos, Std ID 500593485\n",
    "\n",
    "01 10 2019\n",
    "\n",
    "# Introduction and Overall Comments\n",
    "\n",
    "This is the submission of Derek Eliopoulos."
   ]
  },
  {
   "cell_type": "markdown",
   "metadata": {},
   "source": [
    "## Solution for exercise 1"
   ]
  },
  {
   "cell_type": "code",
   "execution_count": 3,
   "metadata": {},
   "outputs": [],
   "source": [
    "import turtle\n",
    "import random\n",
    "\n",
    "def tree(branchLen,t,angle):\n",
    "    if branchLen<10:\n",
    "            t.color(\"green\")\n",
    "    if branchLen > 5:\n",
    "        lenSub = random.randint(10,20)\n",
    "        t.pensize(branchLen/6)\n",
    "        \n",
    "        t.forward(branchLen)\n",
    "        t.right(angle)\n",
    "        tree(branchLen-lenSub,t,angle)\n",
    "        t.left(angle*2)\n",
    "        tree(branchLen-lenSub,t,angle)\n",
    "        t.right(angle)\n",
    "        t.backward(branchLen)\n",
    "        t.color(\"brown\")\n",
    "\n",
    "def main():\n",
    "    t = turtle.Turtle()\n",
    "    myWin = turtle.Screen()\n",
    "    t.left(90)\n",
    "    t.up()\n",
    "    t.backward(100)\n",
    "    t.down()\n",
    "    t.color(\"brown\")\n",
    "    angle = random.randint(15,45)\n",
    "    tree(75,t,angle)\n",
    "    myWin.exitonclick()\n"
   ]
  },
  {
   "cell_type": "code",
   "execution_count": 5,
   "metadata": {},
   "outputs": [],
   "source": [
    "!(tree.png)"
   ]
  },
  {
   "cell_type": "markdown",
   "metadata": {},
   "source": [
    "**Discussion of the Results**\n",
    "Made range for random values not too far from their original constant values, so doesn't look wildly different but enough for some variety. Angles are random as well as length lost, so branches can have different angles and lengths from eachother. After applying the random angle twice for two turns, I applied the angle*2 to the left to reset the angle.\n",
    "Set penwidth to scale with branchLen. At first it was too thick, so I divided it by 6. "
   ]
  },
  {
   "cell_type": "markdown",
   "metadata": {},
   "source": [
    "## Solution for Exercise 2"
   ]
  },
  {
   "cell_type": "code",
   "execution_count": null,
   "metadata": {},
   "outputs": [],
   "source": [
    "def power(x,n,acc = 1):\n",
    "    if n == 0: return acc\n",
    "    else: return power(x,n-1, acc*x)\n",
    "    \n",
    "def powerH(x,n):\n",
    "    if n==0: return 1\n",
    "    else:\n",
    "        if n == 1:\n",
    "            return x\n",
    "        elif n == 2:\n",
    "            return x*x\n",
    "        else:\n",
    "            if n%2==0:\n",
    "                halfn = n/2\n",
    "                return powerH(x, halfn)*powerH(x,halfn)\n",
    "            else:\n",
    "                n-=1\n",
    "                return powerH(x*x, n)\n",
    "\n",
    "            \n",
    "def C(n,k):\n",
    "    if k == 0 or n == k: return 1\n",
    "    return C(n-1,k)+C(n-1,k-1)\n",
    "            "
   ]
  },
  {
   "cell_type": "markdown",
   "metadata": {},
   "source": [
    "**Discussion of the Results**\n",
    "\n",
    "First power function was pretty easy; multiplied accumulator by x and -1 to n every iteration and calls again.\n",
    "\n",
    "powerH was a bit tougher. Used if statements for every case from 0 to 2, then check if odd or even. If odd I only apply once, by the next iteration it can split because it will be even.\n",
    "\n",
    "C function does exactly what was in the lab."
   ]
  }
 ],
 "metadata": {
  "kernelspec": {
   "display_name": "Python 3",
   "language": "python",
   "name": "python3"
  },
  "language_info": {
   "codemirror_mode": {
    "name": "ipython",
    "version": 3
   },
   "file_extension": ".py",
   "mimetype": "text/x-python",
   "name": "python",
   "nbconvert_exporter": "python",
   "pygments_lexer": "ipython3",
   "version": "3.7.3"
  },
  "latex_envs": {
   "LaTeX_envs_menu_present": true,
   "autoclose": false,
   "autocomplete": true,
   "bibliofile": "biblio.bib",
   "cite_by": "apalike",
   "current_citInitial": 1,
   "eqLabelWithNumbers": true,
   "eqNumInitial": 1,
   "hotkeys": {
    "equation": "Ctrl-E",
    "itemize": "Ctrl-I"
   },
   "labels_anchors": false,
   "latex_user_defs": false,
   "report_style_numbering": false,
   "user_envs_cfg": false
  }
 },
 "nbformat": 4,
 "nbformat_minor": 2
}
